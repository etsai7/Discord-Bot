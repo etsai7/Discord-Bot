{
 "cells": [
  {
   "cell_type": "code",
   "execution_count": 28,
   "id": "initial_id",
   "metadata": {
    "collapsed": true,
    "ExecuteTime": {
     "end_time": "2024-05-13T00:34:15.674712300Z",
     "start_time": "2024-05-13T00:34:15.641708900Z"
    }
   },
   "outputs": [],
   "source": [
    "from PIL import Image, ImageDraw, ImageFont\n",
    "import os\n",
    "\n",
    "# Define image properties\n",
    "width, height = 300, 200\n",
    "background_color = (204, 213, 174)  # White background color\n",
    "text_color = (212, 163, 115)  # Black text color\n",
    "text = \"Hello, Pillow!\"\n",
    "\n",
    "# Create a new image with the specified background color\n",
    "image = Image.new(\"RGB\", (width, height), background_color)\n",
    "\n",
    "# Initialize the drawing context\n",
    "draw = ImageDraw.Draw(image)\n",
    "\n",
    "# Define a font (change the path to a font file on your system)\n",
    "font = ImageFont.truetype('ebrima.ttf', 30)\n",
    "\n",
    "# Calculate text size and position\n",
    "\n",
    "text_width = draw.textlength(text, font=font)\n",
    "text_height = font.size\n",
    "x = (width - text_width) // 2\n",
    "y = (height - text_height) // 2\n",
    "\n",
    "# Draw the text on the image\n",
    "draw.text((x, y), text, fill=text_color, font=font)\n",
    "\n",
    "image.show()\n",
    "# Save the image as JPEG or PNG\n",
    "image.save(\"output.jpg\")  # Save as JPEG\n",
    "# image.save(\"output.png\")  # Save as PNG\n"
   ]
  }
 ],
 "metadata": {
  "kernelspec": {
   "display_name": "Python 3",
   "language": "python",
   "name": "python3"
  },
  "language_info": {
   "codemirror_mode": {
    "name": "ipython",
    "version": 2
   },
   "file_extension": ".py",
   "mimetype": "text/x-python",
   "name": "python",
   "nbconvert_exporter": "python",
   "pygments_lexer": "ipython2",
   "version": "2.7.6"
  }
 },
 "nbformat": 4,
 "nbformat_minor": 5
}

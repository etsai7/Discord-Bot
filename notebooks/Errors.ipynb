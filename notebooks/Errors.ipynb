{
 "cells": [
  {
   "cell_type": "markdown",
   "source": [
    "## 1. Bot 403 Forbidden Error\n",
    "### Description\n",
    "The bot encounters the following error when running commands such as `add_roles` or `remove_roles`:\n",
    "\n",
    "`interactions.client.errors.Forbidden: HTTPException: 403|Forbidden || Missing Permissions`\n",
    "\n",
    "### Solution\n",
    "This occurs because the bot doesn't have higher permissions than that of the member that you're modifying ([Thread](https://discord.com/channels/789032594456576001/1160619432826110064/1160642295113207840)).\n",
    "For example, if the you're modifying someone with a `Admin` role, the bot most likely will be unable to change it.\n",
    "It works better if the roles the member holds and is being changed to is less privileged than the bot"
   ],
   "metadata": {
    "collapsed": false
   },
   "id": "29a4457753668f05"
  },
  {
   "cell_type": "code",
   "execution_count": null,
   "outputs": [],
   "source": [],
   "metadata": {
    "collapsed": false
   },
   "id": "9bd05acca5a08e9d"
  }
 ],
 "metadata": {
  "kernelspec": {
   "display_name": "Python 3",
   "language": "python",
   "name": "python3"
  },
  "language_info": {
   "codemirror_mode": {
    "name": "ipython",
    "version": 2
   },
   "file_extension": ".py",
   "mimetype": "text/x-python",
   "name": "python",
   "nbconvert_exporter": "python",
   "pygments_lexer": "ipython2",
   "version": "2.7.6"
  }
 },
 "nbformat": 4,
 "nbformat_minor": 5
}

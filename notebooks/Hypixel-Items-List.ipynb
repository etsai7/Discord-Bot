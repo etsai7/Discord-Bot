{
 "cells": [
  {
   "cell_type": "code",
   "execution_count": 5,
   "metadata": {
    "collapsed": true
   },
   "outputs": [],
   "source": [
    "import requests\n",
    "from pprint import pprint"
   ]
  },
  {
   "cell_type": "code",
   "execution_count": 6,
   "outputs": [],
   "source": [
    "def request_info(url: str):\n",
    "    r = requests.get(url)\n",
    "    return r.json()"
   ],
   "metadata": {
    "collapsed": false
   }
  },
  {
   "cell_type": "code",
   "execution_count": 7,
   "outputs": [],
   "source": [
    "def get_items_data():\n",
    "    items_data = request_info(f\"https://api.hypixel.net/resources/skyblock/items\")\n",
    "    items = items_data.get(\"items\")\n",
    "    return items"
   ],
   "metadata": {
    "collapsed": false
   }
  },
  {
   "cell_type": "code",
   "execution_count": 8,
   "outputs": [
    {
     "name": "stdout",
     "output_type": "stream",
     "text": [
      "'Mandraa'\n",
      "'Furball'\n",
      "'Obsidian Tablet'\n",
      "'Beating Heart'\n",
      "'End Stone Shulker'\n",
      "'Acacia Birdhouse'\n",
      "'Dark Orb'\n",
      "'Ender Monocle'\n",
      "'Scorched Books'\n",
      "'Eccentric Painting'\n",
      "'Precious Pearl'\n",
      "'Magma Urchin'\n",
      "'Horns of Torment'\n",
      "'Rock Candy'\n",
      "'Luxurious Spool'\n",
      "'Hazmat Enderman'\n",
      "'Vitamin Death'\n",
      "'Sword of Live Reloading'\n",
      "'Helmet of Live Reloading'\n",
      "'Arack'\n",
      "'Arachne Fragment'\n",
      "\"Arachne's Boots\"\n",
      "\"Arachne's Belt\"\n",
      "\"Arachne's Necklace\"\n",
      "\"Arachne's Gloves\"\n",
      "\"Arachne's Calling\"\n",
      "\"Arachne's Helmet\"\n",
      "\"Arachne's Chestplate\"\n",
      "\"Archaeologist's Compass\"\n",
      "\"Arachne's Cloak\"\n",
      "\"Arachne's Leggings\"\n",
      "\"Arachne's Fang\"\n",
      "'Poison Sample'\n",
      "'Arachne Crystal'\n",
      "'Cocoa Chopper'\n",
      "'InfiniDirt™ Wand'\n",
      "'Melon Dicer'\n",
      "'Mathematical Hoe Blueprint'\n",
      "\"Jacob's Ticket\"\n",
      "'Nether Wart Pouch'\n",
      "'Cactus Knife'\n",
      "'Basket of Seeds'\n",
      "'Fungi Cutter'\n",
      "'Hoe of Great Tilling'\n",
      "'Gauss Carrot Hoe'\n",
      "\"Euclid's Wheat Hoe\"\n",
      "'Turing Sugar Cane Hoe'\n",
      "\"Euclid's Wheat Hoe\"\n",
      "'Gauss Carrot Hoe'\n",
      "'Turing Sugar Cane Hoe'\n",
      "'Pythagorean Potato Hoe'\n",
      "'Pythagorean Potato Hoe'\n",
      "\"Euclid's Wheat Hoe\"\n",
      "'Gauss Carrot Hoe'\n",
      "'Newton Nether Warts Hoe'\n",
      "'Turing Sugar Cane Hoe'\n",
      "'Newton Nether Warts Hoe'\n",
      "'Pythagorean Potato Hoe'\n",
      "'Newton Nether Warts Hoe'\n",
      "'Prismapump'\n",
      "'Pumpkin Dicer'\n",
      "'Hoe of Greater Tilling'\n",
      "'Large Husbandry Sack'\n",
      "'Large Foraging Sack'\n",
      "'Medium Fishing Sack'\n",
      "'Large Mining Sack'\n",
      "'Spooky Sack'\n",
      "'Small Runes Sack'\n",
      "'Flower Sack'\n",
      "'Dungeon Sack'\n",
      "'Medium Mining Sack'\n",
      "'Large Enchanted Agronomy Sack'\n",
      "'Small Foraging Sack'\n",
      "'Medium Slayer Sack'\n",
      "'Large Agronomy Sack'\n",
      "'Large Nether Sack'\n",
      "'Medium Husbandry Sack'\n",
      "'Large Enchanted Mining Sack'\n",
      "'Medium Combat Sack'\n",
      "'Silver Trophy Fishing Sack'\n",
      "'Bronze Trophy Fishing Sack'\n",
      "'Large Enchanted Husbandry Sack'\n",
      "'Large Enchanted Fishing Sack'\n",
      "'Medium Lava Fishing Sack'\n",
      "'Dwarven Sack'\n",
      "'Large Combat Sack'\n",
      "'Large Slayer Sack'\n",
      "'Large Enchanted Foraging Sack'\n",
      "'Small Agronomy Sack'\n",
      "'Small Combat Sack'\n",
      "'Crystal Hollows Sack'\n",
      "'Medium Foraging Sack'\n",
      "'Small Slayer Sack'\n",
      "'Large Enchanted Combat Sack'\n",
      "'Small Nether Sack'\n",
      "'Small Lava Fishing Sack'\n",
      "'Small Husbandry Sack'\n",
      "'Small Fishing Sack'\n",
      "'Small Mining Sack'\n",
      "'Small Dragon Sack'\n"
     ]
    }
   ],
   "source": [
    "items_data = get_items_data()\n",
    "for i in range(0,100):\n",
    "    pprint(items_data[i].get('name'))"
   ],
   "metadata": {
    "collapsed": false
   }
  }
 ],
 "metadata": {
  "kernelspec": {
   "display_name": "Python 3",
   "language": "python",
   "name": "python3"
  },
  "language_info": {
   "codemirror_mode": {
    "name": "ipython",
    "version": 2
   },
   "file_extension": ".py",
   "mimetype": "text/x-python",
   "name": "python",
   "nbconvert_exporter": "python",
   "pygments_lexer": "ipython2",
   "version": "2.7.6"
  }
 },
 "nbformat": 4,
 "nbformat_minor": 0
}

{
 "cells": [
  {
   "cell_type": "code",
   "execution_count": 5,
   "id": "initial_id",
   "metadata": {
    "collapsed": true,
    "ExecuteTime": {
     "end_time": "2024-07-13T19:18:44.388075100Z",
     "start_time": "2024-07-13T19:18:44.355074Z"
    }
   },
   "outputs": [
    {
     "name": "stdout",
     "output_type": "stream",
     "text": [
      "DB Initialized\n",
      "SQLite Version is [('3.40.1',)]\n"
     ]
    }
   ],
   "source": [
    "import sqlite3\n",
    "connection = sqlite3.connect(\"test-db.db\")\n",
    "cursor = connection.cursor()\n",
    "print(\"DB Initialized\")\n",
    "\n",
    "# Write a query and execute it with cursor\n",
    "query = 'select sqlite_version();'\n",
    "cursor.execute(query)\n",
    "\n",
    "# Fetch and output result\n",
    "result = cursor.fetchall()\n",
    "print('SQLite Version is {}'.format(result))\n",
    "\n",
    "# Create Table\n",
    "create_table_query = '''CREATE TABLE If NOT EXISTS users (\n",
    "                      Name TEXT,\n",
    "                      Points INTEGER\n",
    "                  )'''\n",
    "cursor.execute(create_table_query)\n",
    "\n",
    "# Close the cursor\n",
    "cursor.close()"
   ]
  }
 ],
 "metadata": {
  "kernelspec": {
   "display_name": "Python 3",
   "language": "python",
   "name": "python3"
  },
  "language_info": {
   "codemirror_mode": {
    "name": "ipython",
    "version": 2
   },
   "file_extension": ".py",
   "mimetype": "text/x-python",
   "name": "python",
   "nbconvert_exporter": "python",
   "pygments_lexer": "ipython2",
   "version": "2.7.6"
  }
 },
 "nbformat": 4,
 "nbformat_minor": 5
}

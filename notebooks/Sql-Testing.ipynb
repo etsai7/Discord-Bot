{
 "cells": [
  {
   "cell_type": "code",
   "execution_count": 12,
   "id": "initial_id",
   "metadata": {
    "collapsed": true,
    "ExecuteTime": {
     "end_time": "2024-07-15T01:24:37.770845800Z",
     "start_time": "2024-07-15T01:24:37.741847300Z"
    }
   },
   "outputs": [
    {
     "name": "stdout",
     "output_type": "stream",
     "text": [
      "DB Initialized\n",
      "SQLite Version is [('3.40.1',)]\n"
     ]
    },
    {
     "data": {
      "text/plain": "<sqlite3.Cursor at 0x2a0eddf9940>"
     },
     "execution_count": 12,
     "metadata": {},
     "output_type": "execute_result"
    }
   ],
   "source": [
    "import sqlite3\n",
    "connection = sqlite3.connect(\"test-db.db\")\n",
    "cursor = connection.cursor()\n",
    "print(\"DB Initialized\")\n",
    "\n",
    "# Write a query and execute it with cursor\n",
    "query = 'select sqlite_version();'\n",
    "cursor.execute(query)\n",
    "\n",
    "# Fetch and output result\n",
    "result = cursor.fetchall()\n",
    "print('SQLite Version is {}'.format(result))\n",
    "\n",
    "# Create Table\n",
    "create_table_query = '''CREATE TABLE If NOT EXISTS users (\n",
    "                      Name TEXT PRIMARY KEY,\n",
    "                      Points INTEGER\n",
    "                  )'''\n",
    "cursor.execute(create_table_query)\n",
    "\n",
    "# Close the cursor\n",
    "# cursor.close()"
   ]
  },
  {
   "cell_type": "code",
   "outputs": [
    {
     "name": "stdout",
     "output_type": "stream",
     "text": [
      "Dooper70 has 7 points\n",
      "Faker has 0 points\n"
     ]
    }
   ],
   "source": [
    "user = \"Dooper70\"\n",
    "points = cursor.execute(\"SELECT Points From users Where Name = ?\", (user,)).fetchone()\n",
    "print(f'Dooper70 has {points[0]} points')\n",
    "\n",
    "user = \"Faker\"\n",
    "results = cursor.execute(\"SELECT Points From users Where Name = ?\", (user,)).fetchone()\n",
    "points = results[0] if results else 0\n",
    "print(f'Faker has {points} points')"
   ],
   "metadata": {
    "collapsed": false,
    "ExecuteTime": {
     "end_time": "2024-07-15T01:30:04.075862800Z",
     "start_time": "2024-07-15T01:30:04.055864700Z"
    }
   },
   "id": "cb1b42dcfa5da39a",
   "execution_count": 20
  },
  {
   "cell_type": "code",
   "outputs": [
    {
     "name": "stdout",
     "output_type": "stream",
     "text": [
      "Joe has 5 points\n"
     ]
    }
   ],
   "source": [
    "cursor.execute('INSERT OR REPLACE INTO users (Name, Points) VALUES (?, ?)', (\"Joe\", 5))\n",
    "results = cursor.execute(\"SELECT Points From users Where Name = ?\", (\"Joe\",)).fetchone()\n",
    "points = results[0] if results else 0\n",
    "print(f'Joe has {points} points')"
   ],
   "metadata": {
    "collapsed": false,
    "ExecuteTime": {
     "end_time": "2024-07-15T01:35:56.366487200Z",
     "start_time": "2024-07-15T01:35:56.342362800Z"
    }
   },
   "id": "64a40810e49d657c",
   "execution_count": 22
  },
  {
   "cell_type": "code",
   "outputs": [],
   "source": [],
   "metadata": {
    "collapsed": false
   },
   "id": "b39cc0fb1e7c4acf"
  }
 ],
 "metadata": {
  "kernelspec": {
   "display_name": "Python 3",
   "language": "python",
   "name": "python3"
  },
  "language_info": {
   "codemirror_mode": {
    "name": "ipython",
    "version": 2
   },
   "file_extension": ".py",
   "mimetype": "text/x-python",
   "name": "python",
   "nbconvert_exporter": "python",
   "pygments_lexer": "ipython2",
   "version": "2.7.6"
  }
 },
 "nbformat": 4,
 "nbformat_minor": 5
}

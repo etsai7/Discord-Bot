{
 "cells": [
  {
   "cell_type": "markdown",
   "source": [
    "### Custom Sorting for List of Lists\n",
    "---"
   ],
   "metadata": {
    "collapsed": false
   },
   "id": "7e1090fcfe57214a"
  },
  {
   "cell_type": "code",
   "execution_count": 3,
   "id": "initial_id",
   "metadata": {
    "collapsed": true,
    "ExecuteTime": {
     "end_time": "2023-11-13T23:31:34.634277800Z",
     "start_time": "2023-11-13T23:31:34.603282600Z"
    }
   },
   "outputs": [
    {
     "name": "stdout",
     "output_type": "stream",
     "text": [
      "['Item 3', 'Price: 1932', 'Seller C']\n",
      "['Item 1', 'Price: 7382', 'Seller A']\n",
      "['Item 2', 'Price: 1000000', 'Seller B']\n"
     ]
    }
   ],
   "source": [
    "items = []\n",
    "a = [\"Item 1\", \"Price: 7382\", \"Seller A\"]\n",
    "b = [\"Item 2\", \"Price: 1000000\", \"Seller B\"]\n",
    "c = [\"Item 3\", \"Price: 1932\", \"Seller C\"]\n",
    "items.append(a)\n",
    "items.append(b)\n",
    "items.append(c)\n",
    "\n",
    "def sort_by_price(item: list):\n",
    "    # Need to sort by actual int value as String value does not sort like numbers\n",
    "    return int(item[1].split(\" \")[1])\n",
    "\n",
    "# Sort the items based on the custom sorting function\n",
    "sorted_items = sorted(items, key=sort_by_price)\n",
    "\n",
    "# Display the sorted items\n",
    "for item in sorted_items:\n",
    "    print(item)"
   ]
  },
  {
   "cell_type": "markdown",
   "source": [
    "### How To Remove Roles from User\n",
    "```python\n",
    "@listen()\n",
    "async def on_message_reaction_remove(reaction: interactions.api.events.MessageReactionRemove):\n",
    "    if reaction.message.id == 1106078263010406470:\n",
    "        guild = reaction.message.channel.guild\n",
    "\n",
    "        if guild.get_member(reaction.author.id).has_role(1106076185814909008):\n",
    "            await guild.get_member(reaction.author.id).remove_role(1106076185814909008)\n",
    "            await reaction.author.send(\"Revoked the TOTK spoiler role. You can re-add it at any time.\")\n",
    "```"
   ],
   "metadata": {
    "collapsed": false
   },
   "id": "5aa5bd9995e4aee8"
  },
  {
   "cell_type": "code",
   "execution_count": null,
   "outputs": [],
   "source": [],
   "metadata": {
    "collapsed": false
   },
   "id": "c044442343a44f18"
  }
 ],
 "metadata": {
  "kernelspec": {
   "display_name": "Python 3",
   "language": "python",
   "name": "python3"
  },
  "language_info": {
   "codemirror_mode": {
    "name": "ipython",
    "version": 2
   },
   "file_extension": ".py",
   "mimetype": "text/x-python",
   "name": "python",
   "nbconvert_exporter": "python",
   "pygments_lexer": "ipython2",
   "version": "2.7.6"
  }
 },
 "nbformat": 4,
 "nbformat_minor": 5
}
